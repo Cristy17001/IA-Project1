{
 "cells": [
  {
   "cell_type": "code",
   "execution_count": null,
   "metadata": {},
   "outputs": [],
   "source": [
    "import random\n",
    "import pandas as pd"
   ]
  },
  {
   "cell_type": "code",
   "execution_count": null,
   "metadata": {},
   "outputs": [],
   "source": [
    "class Airplane:\n",
    "    def __init__(self):\n",
    "        # Randomly generate fuel level between 1000 and 5000 liters\n",
    "        self.arriving_fuel_level = random.uniform(1000, 5000)\n",
    "        # Randomly generate fuel consumption rate between 5 and 20 liters per minute\n",
    "        self.fuel_consumption_rate = random.uniform(5, 20)\n",
    "        # Randomly generate expected landing time between 10 and 120 minutes from now\n",
    "        self.expected_landing_time = random.uniform(10, 120)"
   ]
  },
  {
   "cell_type": "code",
   "execution_count": null,
   "metadata": {},
   "outputs": [],
   "source": [
    "def generate_airplane_stream(num_airplanes):\n",
    "    airplane_stream = [(index, Airplane()) for index in range(num_airplanes)]\n",
    "    return airplane_stream"
   ]
  },
  {
   "cell_type": "code",
   "execution_count": null,
   "metadata": {},
   "outputs": [],
   "source": [
    "def generate_single_solution(airplane_stream):\n",
    "    shuffled_airplane_stream = airplane_stream.copy()\n",
    "    random.shuffle(shuffled_airplane_stream)\n",
    "    return shuffled_airplane_stream"
   ]
  },
  {
   "cell_type": "code",
   "execution_count": null,
   "metadata": {},
   "outputs": [],
   "source": [
    "## Generate n_solutions possible solutions\n",
    "def generate_possible_solutions(sorted_airplane_stream, size_of_generation):\n",
    "    solutions = []\n",
    "    solutions.append(sorted_airplane_stream)\n",
    "\n",
    "    for _ in range(0, size_of_generation):\n",
    "        solutions.append(generate_single_solution(sorted_airplane_stream))\n",
    "\n",
    "    return solutions"
   ]
  },
  {
   "cell_type": "code",
   "execution_count": null,
   "metadata": {},
   "outputs": [],
   "source": [
    "def check_fuel_related_incident(airplane, current_time):\n",
    "    consumed_fuel = airplane.fuel_consumption_rate * current_time\n",
    "    current_fuel_level = airplane.arriving_fuel_level - consumed_fuel\n",
    "    return not(current_fuel_level >= 60 * airplane.fuel_consumption_rate)"
   ]
  },
  {
   "cell_type": "code",
   "execution_count": null,
   "metadata": {},
   "outputs": [],
   "source": [
    "def get_fuel_time_left(airplane, current_time):\n",
    "    consumed_fuel = airplane.fuel_consumption_rate * current_time\n",
    "    current_fuel = airplane.arriving_fuel_level - consumed_fuel\n",
    "    return current_fuel * airplane.fuel_consumption_rate"
   ]
  },
  {
   "cell_type": "code",
   "execution_count": null,
   "metadata": {},
   "outputs": [],
   "source": [
    "def check_for_crash(airplane, current_time):\n",
    "    consumed_fuel = airplane.fuel_consumption_rate * current_time\n",
    "    current_fuel_level = airplane.arriving_fuel_level - consumed_fuel\n",
    "    return current_fuel_level <= 0"
   ]
  },
  {
   "cell_type": "code",
   "execution_count": null,
   "metadata": {},
   "outputs": [],
   "source": [
    "def fitness_function(airplane_stream):\n",
    "    current_time = 0\n",
    "    reverse_fitness_score = 0\n",
    "\n",
    "    # Process the planes in groups of three\n",
    "    # For each 3 planes we add 3 minutes to the current time\n",
    "    for i in range(0, len(airplane_stream), 3):\n",
    "        # Get the group of 3 planes with error safety check\n",
    "        group = airplane_stream[i:] if (i + 3) > len(airplane_stream) else airplane_stream[i:i+3]\n",
    "\n",
    "        # Process each plane in the group\n",
    "        for (_, airplane) in group:\n",
    "            # Check if the plane has a crash\n",
    "            if check_for_crash(airplane, current_time): return -1\n",
    "\n",
    "            # Check if the plane has a fuel related incident\n",
    "            fuel_incident_weight = 2 if check_fuel_related_incident(airplane, current_time) else 0\n",
    "\n",
    "            # In case of accident, add the remaining time with fuel consumption rate multiplied by 0.2\n",
    "            land_as_fast_as_possible_weight = 0\n",
    "            if fuel_incident_weight:\n",
    "                land_as_fast_as_possible_weight = get_fuel_time_left(airplane, current_time) * 0.2\n",
    "\n",
    "            # If the plane is late, add the difference between the current time and the expected landing time multiplied by 0.1\n",
    "            expected_landing_time_weight = 0\n",
    "            if current_time > airplane.expected_landing_time:\n",
    "                expected_landing_time_weight = (current_time - airplane.expected_landing_time) * 0.1\n",
    "\n",
    "            reverse_fitness_score += fuel_incident_weight + land_as_fast_as_possible_weight + expected_landing_time_weight\n",
    "\n",
    "        # Add 3 minutes to the current time\n",
    "        current_time += 3\n",
    "\n",
    "    return reverse_fitness_score\n"
   ]
  },
  {
   "cell_type": "code",
   "execution_count": null,
   "metadata": {},
   "outputs": [],
   "source": [
    "## To identify the airplanes, we can use the index of the list\n",
    "airplane_stream = generate_airplane_stream(100)\n",
    "\n",
    "# Good baseline for the algorithms to start with\n",
    "# Sort the airplane_stream by expected landing time\n",
    "sorted_airplane_stream = sorted(airplane_stream, key=lambda x: x[1].expected_landing_time)"
   ]
  },
  {
   "cell_type": "code",
   "execution_count": null,
   "metadata": {},
   "outputs": [],
   "source": [
    "possible_solutions = generate_possible_solutions(sorted_airplane_stream, 2000)\n",
    "\n",
    "# Create an empty list to store the DataFrames of each solution\n",
    "dfs = []\n",
    "\n",
    "for solution in possible_solutions:\n",
    "    # Create the dataframe\n",
    "    df = pd.DataFrame()\n",
    "    df[\"Airplane number\"] = [element[0] for element in solution]\n",
    "    df[\"Fuel consumption rate\"] = [element[1].fuel_consumption_rate for element in solution]\n",
    "    df[\"Arriving fuel level\"] = [element[1].arriving_fuel_level for element in solution]\n",
    "    df[\"Expected landing time\"] = [element[1].expected_landing_time for element in solution]\n",
    "\n",
    "    # Change the index to \"Airplane Number\"\n",
    "    df.set_index(\"Airplane number\", inplace=True)\n",
    "\n",
    "    # Add the fitness score column to the DataFrame\n",
    "    df[\"Fitness score\"] = fitness_function(solution)\n",
    "\n",
    "    # Append the DataFrame to the list\n",
    "    dfs.append(df)\n",
    "\n",
    "# Concatenate all the DataFrames in the list\n",
    "result_df = pd.concat(dfs).sort_values(by=\"Fitness score\", ascending=True).round(2)\n",
    "\n",
    "print(result_df)"
   ]
  },
  {
   "cell_type": "code",
   "execution_count": null,
   "metadata": {},
   "outputs": [],
   "source": []
  }
 ],
 "metadata": {
  "kernelspec": {
   "display_name": "Python 3",
   "language": "python",
   "name": "python3"
  },
  "language_info": {
   "codemirror_mode": {
    "name": "ipython",
    "version": 3
   },
   "file_extension": ".py",
   "mimetype": "text/x-python",
   "name": "python",
   "nbconvert_exporter": "python",
   "pygments_lexer": "ipython3",
   "version": "3.12.1"
  }
 },
 "nbformat": 4,
 "nbformat_minor": 2
}
