{
 "cells": [
  {
   "cell_type": "code",
   "execution_count": 17,
   "metadata": {},
   "outputs": [],
   "source": [
    "import random\n",
    "import pandas as pd"
   ]
  },
  {
   "cell_type": "code",
   "execution_count": 18,
   "metadata": {},
   "outputs": [],
   "source": [
    "class Airplane:\n",
    "    def __init__(self):\n",
    "        # Randomly generate fuel level between 1000 and 5000 liters\n",
    "        self.arriving_fuel_level = random.uniform(1000, 5000)\n",
    "        # Randomly generate fuel consumption rate between 5 and 20 liters per minute\n",
    "        self.fuel_consumption_rate = random.uniform(5, 20)\n",
    "        # Randomly generate expected landing time between 10 and 120 minutes from now\n",
    "        self.expected_landing_time = random.uniform(10, 120)"
   ]
  },
  {
   "cell_type": "code",
   "execution_count": 19,
   "metadata": {},
   "outputs": [],
   "source": [
    "def generate_airplane_stream(num_airplanes):\n",
    "    airplane_stream = [(index, Airplane()) for index in range(num_airplanes)]\n",
    "    return airplane_stream"
   ]
  },
  {
   "cell_type": "code",
   "execution_count": 20,
   "metadata": {},
   "outputs": [],
   "source": [
    "def generate_single_solution(airplane_stream):\n",
    "    shuffled_airplane_stream = airplane_stream.copy()\n",
    "    random.shuffle(shuffled_airplane_stream)\n",
    "    return shuffled_airplane_stream"
   ]
  },
  {
   "cell_type": "code",
   "execution_count": 21,
   "metadata": {},
   "outputs": [],
   "source": [
    "## Generate n_solutions possible solutions\n",
    "def generate_possible_solutions(sorted_airplane_stream, size_of_generation):\n",
    "    solutions = []\n",
    "    solutions.append(sorted_airplane_stream)\n",
    "\n",
    "    for _ in range(0, size_of_generation):\n",
    "        solutions.append(generate_single_solution(sorted_airplane_stream))\n",
    "\n",
    "    return solutions"
   ]
  },
  {
   "cell_type": "code",
   "execution_count": 22,
   "metadata": {},
   "outputs": [],
   "source": [
    "def check_fuel_related_incident(airplane, current_time):\n",
    "    consumed_fuel = airplane.fuel_consumption_rate * current_time\n",
    "    current_fuel_level = airplane.arriving_fuel_level - consumed_fuel\n",
    "    return not(current_fuel_level >= 60 * airplane.fuel_consumption_rate)"
   ]
  },
  {
   "cell_type": "code",
   "execution_count": 23,
   "metadata": {},
   "outputs": [],
   "source": [
    "def get_fuel_time_left(airplane, current_time):\n",
    "    consumed_fuel = airplane.fuel_consumption_rate * current_time\n",
    "    current_fuel = airplane.arriving_fuel_level - consumed_fuel\n",
    "    return current_fuel / airplane.fuel_consumption_rate"
   ]
  },
  {
   "cell_type": "code",
   "execution_count": 24,
   "metadata": {},
   "outputs": [],
   "source": [
    "def check_for_crash(airplane, current_time):\n",
    "    consumed_fuel = airplane.fuel_consumption_rate * current_time\n",
    "    current_fuel_level = airplane.arriving_fuel_level - consumed_fuel\n",
    "    return current_fuel_level <= 0"
   ]
  },
  {
   "cell_type": "code",
   "execution_count": 28,
   "metadata": {},
   "outputs": [],
   "source": [
    "def fitness_function(airplane_stream):\n",
    "    current_time = 0\n",
    "    reverse_fitness_score = 0\n",
    "\n",
    "    # Process the planes in groups of three\n",
    "    # For each 3 planes we add 3 minutes to the current time\n",
    "    for i in range(0, len(airplane_stream), 3):\n",
    "        # Get the group of 3 planes with error safety check\n",
    "        group = airplane_stream[i:] if (i + 3) > len(airplane_stream) else airplane_stream[i:i+3]\n",
    "\n",
    "        # Process each plane in the group\n",
    "        for (_, airplane) in group:\n",
    "            # Check if the plane has a crash\n",
    "            if check_for_crash(airplane, current_time): return -1\n",
    "\n",
    "            # Check if the plane has a fuel related incident\n",
    "            fuel_incident_weight = 0\n",
    "            if check_fuel_related_incident(airplane, current_time):\n",
    "                # In case of accident, subtract the remaining fuel time multiplied by 0.02, because the greater the remaining fuel time, the better\n",
    "                fuel_incident_weight = 2 - (get_fuel_time_left(airplane, current_time) * 0.02)\n",
    "\n",
    "            # If the plane is late, add the difference between the current time and the expected landing time multiplied by 0.01\n",
    "            expected_landing_time_weight = 0\n",
    "            if current_time > airplane.expected_landing_time:\n",
    "                expected_landing_time_weight = (current_time - airplane.expected_landing_time) * 0.01\n",
    "\n",
    "            reverse_fitness_score += fuel_incident_weight + expected_landing_time_weight\n",
    "\n",
    "        # Add 3 minutes to the current time\n",
    "        current_time += 3\n",
    "\n",
    "    return reverse_fitness_score\n"
   ]
  },
  {
   "cell_type": "code",
   "execution_count": 29,
   "metadata": {},
   "outputs": [],
   "source": [
    "## To identify the airplanes, we can use the index of the list\n",
    "airplane_stream = generate_airplane_stream(100)\n",
    "\n",
    "# Good baseline for the algorithms to start with\n",
    "# Sort the airplane_stream by expected landing time\n",
    "sorted_airplane_stream = sorted(airplane_stream, key=lambda x: x[1].expected_landing_time)"
   ]
  },
  {
   "cell_type": "code",
   "execution_count": 30,
   "metadata": {},
   "outputs": [
    {
     "name": "stdout",
     "output_type": "stream",
     "text": [
      "                 Fuel consumption rate  Arriving fuel level  \\\n",
      "Airplane number                                               \n",
      "91                               10.31              1526.86   \n",
      "76                                7.96              3287.60   \n",
      "94                               16.80              1217.00   \n",
      "89                               11.32              3108.17   \n",
      "35                               14.76              3848.02   \n",
      "...                                ...                  ...   \n",
      "92                               18.15              4659.38   \n",
      "3                                 8.78              3684.97   \n",
      "66                               12.55              4087.49   \n",
      "63                                5.48              3490.85   \n",
      "97                               16.14              3435.68   \n",
      "\n",
      "                 Expected landing time  Fitness score  \n",
      "Airplane number                                        \n",
      "91                               10.09          -1.00  \n",
      "76                               76.92          -1.00  \n",
      "94                               96.99          -1.00  \n",
      "89                               95.58          -1.00  \n",
      "35                               18.43          -1.00  \n",
      "...                                ...            ...  \n",
      "92                               98.53          35.91  \n",
      "3                               117.61          35.91  \n",
      "66                              105.79          35.91  \n",
      "63                               70.14          35.91  \n",
      "97                               11.44          35.91  \n",
      "\n",
      "[200100 rows x 4 columns]\n"
     ]
    }
   ],
   "source": [
    "possible_solutions = generate_possible_solutions(sorted_airplane_stream, 2000)\n",
    "\n",
    "# Create an empty list to store the DataFrames of each solution\n",
    "dfs = []\n",
    "\n",
    "for solution in possible_solutions:\n",
    "    # Create the dataframe\n",
    "    df = pd.DataFrame()\n",
    "    df[\"Airplane number\"] = [element[0] for element in solution]\n",
    "    df[\"Fuel consumption rate\"] = [element[1].fuel_consumption_rate for element in solution]\n",
    "    df[\"Arriving fuel level\"] = [element[1].arriving_fuel_level for element in solution]\n",
    "    df[\"Expected landing time\"] = [element[1].expected_landing_time for element in solution]\n",
    "\n",
    "    # Change the index to \"Airplane Number\"\n",
    "    df.set_index(\"Airplane number\", inplace=True)\n",
    "\n",
    "    # Add the fitness score column to the DataFrame\n",
    "    df[\"Fitness score\"] = fitness_function(solution)\n",
    "\n",
    "    # Append the DataFrame to the list\n",
    "    dfs.append(df)\n",
    "\n",
    "# Concatenate all the DataFrames in the list\n",
    "result_df = pd.concat(dfs).sort_values(by=\"Fitness score\", ascending=True).round(2)\n",
    "\n",
    "print(result_df)"
   ]
  },
  {
   "cell_type": "code",
   "execution_count": null,
   "metadata": {},
   "outputs": [],
   "source": []
  }
 ],
 "metadata": {
  "kernelspec": {
   "display_name": "Python 3",
   "language": "python",
   "name": "python3"
  },
  "language_info": {
   "codemirror_mode": {
    "name": "ipython",
    "version": 3
   },
   "file_extension": ".py",
   "mimetype": "text/x-python",
   "name": "python",
   "nbconvert_exporter": "python",
   "pygments_lexer": "ipython3",
   "version": "3.12.1"
  }
 },
 "nbformat": 4,
 "nbformat_minor": 2
}
