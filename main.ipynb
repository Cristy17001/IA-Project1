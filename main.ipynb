{
 "cells": [
  {
   "cell_type": "code",
   "execution_count": null,
   "metadata": {},
   "outputs": [],
   "source": [
    "import random\n",
    "import pandas as pd\n",
    "import matplotlib.pyplot as plt\n",
    "from IPython.display import clear_output"
   ]
  },
  {
   "cell_type": "code",
   "execution_count": null,
   "metadata": {},
   "outputs": [],
   "source": [
    "class Airplane:\n",
    "    def __init__(self):\n",
    "        # Randomly generate fuel level between 1000 and 5000 liters\n",
    "        self.arriving_fuel_level = random.uniform(1000, 5000)\n",
    "        # Randomly generate fuel consumption rate between 5 and 20 liters per minute\n",
    "        self.fuel_consumption_rate = random.uniform(5, 20)\n",
    "        # Randomly generate expected landing time between 10 and 120 minutes from now\n",
    "        self.expected_landing_time = random.uniform(10, 120)"
   ]
  },
  {
   "cell_type": "code",
   "execution_count": null,
   "metadata": {},
   "outputs": [],
   "source": [
    "def generate_airplane_stream(num_airplanes):\n",
    "    airplane_stream = [(index, Airplane()) for index in range(num_airplanes)]\n",
    "    return airplane_stream"
   ]
  },
  {
   "cell_type": "code",
   "execution_count": null,
   "metadata": {},
   "outputs": [],
   "source": [
    "def generate_single_solution(airplane_stream):\n",
    "    shuffled_airplane_stream = airplane_stream.copy()\n",
    "    random.shuffle(shuffled_airplane_stream)\n",
    "    return shuffled_airplane_stream"
   ]
  },
  {
   "cell_type": "code",
   "execution_count": null,
   "metadata": {},
   "outputs": [],
   "source": [
    "## Generate n_solutions possible solutions\n",
    "def generate_possible_solutions(sorted_airplane_stream, size_of_generation):\n",
    "    solutions = []\n",
    "    solutions.append(sorted_airplane_stream)\n",
    "\n",
    "    for _ in range(0, size_of_generation-1):\n",
    "        solutions.append(generate_single_solution(sorted_airplane_stream))\n",
    "\n",
    "    return solutions"
   ]
  },
  {
   "cell_type": "code",
   "execution_count": null,
   "metadata": {},
   "outputs": [],
   "source": [
    "def check_fuel_related_incident(airplane, current_time):\n",
    "    consumed_fuel = airplane.fuel_consumption_rate * current_time\n",
    "    current_fuel_level = airplane.arriving_fuel_level - consumed_fuel\n",
    "    return not(current_fuel_level >= 60 * airplane.fuel_consumption_rate)"
   ]
  },
  {
   "cell_type": "code",
   "execution_count": null,
   "metadata": {},
   "outputs": [],
   "source": [
    "def get_fuel_time_left(airplane, current_time):\n",
    "    consumed_fuel = airplane.fuel_consumption_rate * current_time\n",
    "    current_fuel = airplane.arriving_fuel_level - consumed_fuel\n",
    "    return current_fuel / airplane.fuel_consumption_rate"
   ]
  },
  {
   "cell_type": "code",
   "execution_count": null,
   "metadata": {},
   "outputs": [],
   "source": [
    "def check_for_crash(airplane, current_time):\n",
    "    consumed_fuel = airplane.fuel_consumption_rate * current_time\n",
    "    current_fuel_level = airplane.arriving_fuel_level - consumed_fuel\n",
    "    return current_fuel_level <= 0"
   ]
  },
  {
   "cell_type": "code",
   "execution_count": null,
   "metadata": {},
   "outputs": [],
   "source": [
    "def fitness_function(airplane_stream):\n",
    "    current_time = 0\n",
    "    reverse_fitness_score = 0\n",
    "\n",
    "    # Process the planes in groups of three\n",
    "    # For each 3 planes we add 3 minutes to the current time\n",
    "    for i in range(0, len(airplane_stream), 3):\n",
    "        # Get the group of 3 planes with error safety check\n",
    "        group = airplane_stream[i:] if (i + 3) > len(airplane_stream) else airplane_stream[i:i+3]\n",
    "\n",
    "        # Process each plane in the group\n",
    "        for (_, airplane) in group:\n",
    "\n",
    "            # Check if the plane has a crash\n",
    "            crash_weight = 0\n",
    "            if check_for_crash(airplane, current_time):\n",
    "                crash_weight = 100\n",
    "\n",
    "            # Check if the plane has a fuel related incident\n",
    "            fuel_incident_weight = 0\n",
    "            if check_fuel_related_incident(airplane, current_time):\n",
    "                # In case of accident, subtract the remaining fuel time multiplied by 0.02, because the greater the remaining fuel time, the better\n",
    "                fuel_incident_weight = 2 - (get_fuel_time_left(airplane, current_time) * 0.02)\n",
    "\n",
    "            # If the plane is late, add the difference between the current time and the expected landing time multiplied by 0.01\n",
    "            expected_landing_time_weight = 0\n",
    "            if current_time > airplane.expected_landing_time:\n",
    "                expected_landing_time_weight = (current_time - airplane.expected_landing_time) * 0.01\n",
    "\n",
    "            reverse_fitness_score += fuel_incident_weight + expected_landing_time_weight + crash_weight\n",
    "\n",
    "        # Add 3 minutes to the current time\n",
    "        current_time += 3\n",
    "\n",
    "    return reverse_fitness_score\n"
   ]
  },
  {
   "cell_type": "code",
   "execution_count": null,
   "metadata": {},
   "outputs": [],
   "source": [
    "def show_solution_with_fitness(solutions):\n",
    "    for solution, fitness_score in solutions:\n",
    "        print(f\"Fitness score: {fitness_score}\", end=' ')\n",
    "        airplane_indexes = [index for index, airplane in solution]\n",
    "        print(airplane_indexes)"
   ]
  },
  {
   "cell_type": "code",
   "execution_count": null,
   "metadata": {},
   "outputs": [],
   "source": [
    "def show_solution_airplace_indexes(solution):\n",
    "    airplane_indexes = [index for index, airplane in solution]\n",
    "    print(airplane_indexes)"
   ]
  },
  {
   "cell_type": "code",
   "execution_count": null,
   "metadata": {},
   "outputs": [],
   "source": [
    "def add_fitness_to_generation(generation):\n",
    "    return [(solution, fitness_function(solution)) for solution in generation]"
   ]
  },
  {
   "cell_type": "code",
   "execution_count": null,
   "metadata": {},
   "outputs": [],
   "source": [
    "def get_metrics_from_generation(generation):\n",
    "    fitness_scores = [fitness for _, fitness in generation]\n",
    "    return {\n",
    "        'max': max(fitness_scores),\n",
    "        'min': min(fitness_scores),\n",
    "        'mean': sum(fitness_scores) / len(fitness_scores)\n",
    "    }"
   ]
  },
  {
   "cell_type": "code",
   "execution_count": null,
   "metadata": {},
   "outputs": [],
   "source": [
    "def tournament_match(participants):\n",
    "    # Winnes the parent with the lowest fitness score\n",
    "    p1, p2 = participants\n",
    "\n",
    "    if p1[1] <= p2[1]:\n",
    "        return p1\n",
    "    return p2"
   ]
  },
  {
   "cell_type": "code",
   "execution_count": null,
   "metadata": {},
   "outputs": [],
   "source": [
    "def generate_participants(generation):\n",
    "    # Shuffle the input array in-place\n",
    "    random.shuffle(generation)\n",
    "\n",
    "    # Create pairs of consecutive elements\n",
    "    participants = [(generation[i], generation[i + 1]) for i in range(0, len(generation) - 1, 2)]\n",
    "\n",
    "    return participants"
   ]
  },
  {
   "cell_type": "code",
   "execution_count": null,
   "metadata": {},
   "outputs": [],
   "source": [
    "def perform_crossover(tournament_winners, i):\n",
    "    crossover_point = random.randint(1, len(tournament_winners[i][0])-2)\n",
    "    parent_1 = tournament_winners[i][0]\n",
    "    parent_2 = tournament_winners[i + 1][0]\n",
    "    child_1 = parent_1[:crossover_point] + parent_2[crossover_point:]\n",
    "    child_2 = parent_2[:crossover_point] + parent_1[crossover_point:]\n",
    "    # print(\"Crossover point:\", crossover_point)\n",
    "    # print(\"Parent 1: \")\n",
    "    # show_solution_airplace_indexes(parent_1)\n",
    "    # print(\"Parent 2: \")\n",
    "    # show_solution_airplace_indexes(parent_2)\n",
    "    # print(\"Child 1: \")\n",
    "    # show_solution_airplace_indexes(child_1)\n",
    "    # print(\"Child 2: \")\n",
    "    # show_solution_airplace_indexes(child_2)\n",
    "\n",
    "    return (parent_1, parent_2, child_1, child_2)"
   ]
  },
  {
   "cell_type": "code",
   "execution_count": null,
   "metadata": {},
   "outputs": [],
   "source": [
    "def perform_mutation(mutation_rate:int , child):\n",
    "    # Mutation\n",
    "    if random.random() < mutation_rate:\n",
    "\n",
    "        mutation_point1 = random.randint(0, len(child) - 1)\n",
    "        mutation_point2 = random.randint(0, len(child) - 1)\n",
    "\n",
    "        while mutation_point1 == mutation_point2:\n",
    "            mutation_point2 = random.randint(0, len(child) - 1)\n",
    "\n",
    "        aux = child[mutation_point1]\n",
    "        child[mutation_point1] = child[mutation_point2]\n",
    "        child[mutation_point2] = aux\n",
    "    return child"
   ]
  },
  {
   "cell_type": "code",
   "execution_count": null,
   "metadata": {},
   "outputs": [],
   "source": [
    "def genetic_algorithm(generation_with_fitness, mutation_rate, crossover_rate):\n",
    "    # Tournament selection\n",
    "    tournament_winners = []\n",
    "    next_generation = []\n",
    "\n",
    "    # The participants are pairs of two of solutions\n",
    "    participants = generate_participants(generation_with_fitness)\n",
    "\n",
    "    # If there is not enought solutions for the tournament, add the last solution to the next generation\n",
    "    if len(generation_with_fitness) % 2 == 1:\n",
    "        next_generation.append(generation_with_fitness[-1])\n",
    "\n",
    "    # For each pair of solutions, perform a tournament match and get the winner\n",
    "    for i in range(0, len(participants)):\n",
    "        tournament_winners.append(tournament_match(participants[i]))\n",
    "    # Tournament selection ends\n",
    "\n",
    "    # Crossover and mutation\n",
    "    for i in range(0, len(tournament_winners), 2):\n",
    "        # If there is an odd number of elements, handle by adding the first again to the next generation\n",
    "        if (i + 1) >= len(tournament_winners):\n",
    "            next_generation.append(tournament_winners[i])\n",
    "            next_generation.append(tournament_winners[0])\n",
    "            break\n",
    "\n",
    "        # Crossover\n",
    "        parent_1, parent_2, child_1, child_2 = perform_crossover(tournament_winners, i)\n",
    "\n",
    "\n",
    "        # Mutation\n",
    "        child_1 = perform_mutation(mutation_rate, child_1)\n",
    "        child_2 = perform_mutation(mutation_rate, child_2)\n",
    "\n",
    "        next_generation.append(parent_1)\n",
    "        next_generation.append(parent_2)\n",
    "        next_generation.append(child_1)\n",
    "        next_generation.append(child_2)\n",
    "\n",
    "    return next_generation"
   ]
  },
  {
   "cell_type": "code",
   "execution_count": null,
   "metadata": {},
   "outputs": [],
   "source": [
    "## To identify the airplanes, we can use the index of the list\n",
    "airplane_stream = generate_airplane_stream(200)\n",
    "\n",
    "# Good baseline for the algorithms to start with\n",
    "# Sort the airplane_stream by expected landing time\n",
    "sorted_airplane_stream = sorted(airplane_stream, key=lambda x: x[1].expected_landing_time)"
   ]
  },
  {
   "cell_type": "code",
   "execution_count": null,
   "metadata": {},
   "outputs": [],
   "source": [
    "first_generation = generate_possible_solutions(sorted_airplane_stream, 200)\n",
    "print(\"Possible solutions:\", len(first_generation))\n",
    "\n",
    "generation_with_fitness = add_fitness_to_generation(first_generation)\n",
    "\n",
    "# show_solution_with_fitness(solution_with_fitness)"
   ]
  },
  {
   "cell_type": "code",
   "execution_count": null,
   "metadata": {},
   "outputs": [],
   "source": [
    "generation = genetic_algorithm(generation_with_fitness, 0.01, 0)\n",
    "metrics = {'min': [], 'max': [], 'mean': []}\n",
    "\n",
    "for i in range(0, 500):\n",
    "    generation_with_fitness = add_fitness_to_generation(generation)\n",
    "    metric = get_metrics_from_generation(generation_with_fitness)\n",
    "    generation = genetic_algorithm(generation_with_fitness, 0.01, 0)\n",
    "\n",
    "    # Add the metric to the list of metrics\n",
    "    metrics['min'].append(metric['min'])\n",
    "    metrics['mean'].append(metric['mean'])\n",
    "\n",
    "    # Print the metrics\n",
    "    print(\"Generation\", i + 1)\n",
    "    print(\"Best Fitness:\", metric['min'])\n",
    "    print(\"Average Fitness:\", metric['mean'])\n",
    "\n",
    "# Plot best fitness score evolution\n",
    "plt.tight_layout()\n",
    "plt.subplot(1, 2, 1)\n",
    "plt.title('Best Fitness')\n",
    "plt.xlabel('Generation')\n",
    "plt.ylabel('Fitness Score')\n",
    "plt.plot(metrics['min'], color='blue')\n",
    "\n",
    "# Plot the average fitness score evolution\n",
    "plt.subplot(1, 2, 2)\n",
    "plt.title('Average Fitness')\n",
    "plt.xlabel('Generation')\n",
    "plt.ylabel('Fitness Score')\n",
    "plt.plot(metrics['mean'], color='orange')\n",
    "\n",
    "# Display the plots\n",
    "plt.legend()\n",
    "plt.show()\n",
    "\n"
   ]
  },
  {
   "cell_type": "code",
   "execution_count": null,
   "metadata": {},
   "outputs": [],
   "source": []
  }
 ],
 "metadata": {
  "kernelspec": {
   "display_name": "Python 3",
   "language": "python",
   "name": "python3"
  },
  "language_info": {
   "codemirror_mode": {
    "name": "ipython",
    "version": 3
   },
   "file_extension": ".py",
   "mimetype": "text/x-python",
   "name": "python",
   "nbconvert_exporter": "python",
   "pygments_lexer": "ipython3",
   "version": "3.12.1"
  }
 },
 "nbformat": 4,
 "nbformat_minor": 2
}
